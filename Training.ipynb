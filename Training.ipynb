{
 "cells": [
  {
   "cell_type": "code",
   "execution_count": 2,
   "metadata": {
    "collapsed": true
   },
   "outputs": [],
   "source": [
    "import pandas as pd\n",
    "import numpy as np"
   ]
  },
  {
   "cell_type": "code",
   "execution_count": 3,
   "metadata": {
    "collapsed": true
   },
   "outputs": [],
   "source": [
    "from sklearn import model_selection\n",
    "from sklearn.tree import DecisionTreeClassifier\n",
    "from sklearn.ensemble import RandomForestClassifier\n",
    "from sklearn.naive_bayes import GaussianNB\n",
    "from sklearn.metrics import mean_squared_error,classification_report,mean_absolute_error,confusion_matrix,f1_score"
   ]
  },
  {
   "cell_type": "code",
   "execution_count": 4,
   "metadata": {
    "collapsed": true
   },
   "outputs": [],
   "source": [
    "df=pd.read_csv(\"matrix_food.csv\")"
   ]
  },
  {
   "cell_type": "code",
   "execution_count": 5,
   "metadata": {
    "collapsed": true
   },
   "outputs": [],
   "source": [
    "feature = df.drop(['6714'],axis=1)\n",
    "target  = df['6714']"
   ]
  },
  {
   "cell_type": "code",
   "execution_count": 6,
   "metadata": {
    "collapsed": true
   },
   "outputs": [],
   "source": [
    "x=np.array(feature)\n",
    "y=np.array(target)\n",
    "x_train,x_test,y_train,y_test=model_selection.train_test_split(x,y,test_size=.1)"
   ]
  },
  {
   "cell_type": "code",
   "execution_count": 7,
   "metadata": {},
   "outputs": [
    {
     "data": {
      "text/plain": [
       "0.5955253896430367"
      ]
     },
     "execution_count": 7,
     "metadata": {},
     "output_type": "execute_result"
    }
   ],
   "source": [
    "tree= DecisionTreeClassifier(random_state=0)\n",
    "tree.fit(x_train,y_train) \n",
    "tree.score(x_test,y_test)"
   ]
  },
  {
   "cell_type": "code",
   "execution_count": 8,
   "metadata": {},
   "outputs": [
    {
     "data": {
      "text/plain": [
       "0.52488687782805432"
      ]
     },
     "execution_count": 8,
     "metadata": {},
     "output_type": "execute_result"
    }
   ],
   "source": [
    "tree= DecisionTreeClassifier(criterion='entropy',random_state=0)\n",
    "tree.fit(x_train,y_train) \n",
    "tree.score(x_test,y_test)"
   ]
  },
  {
   "cell_type": "code",
   "execution_count": 9,
   "metadata": {},
   "outputs": [
    {
     "data": {
      "text/plain": [
       "0.56083459024635496"
      ]
     },
     "execution_count": 9,
     "metadata": {},
     "output_type": "execute_result"
    }
   ],
   "source": [
    "naive_bayes=GaussianNB()\n",
    "naive_bayes.fit(x_train,y_train)\n",
    "naive_bayes.score(x_test,y_test)"
   ]
  },
  {
   "cell_type": "code",
   "execution_count": 10,
   "metadata": {},
   "outputs": [
    {
     "data": {
      "text/plain": [
       "0.66490698843640017"
      ]
     },
     "execution_count": 10,
     "metadata": {},
     "output_type": "execute_result"
    }
   ],
   "source": [
    "#random forest default parameter\n",
    "RandomForest=RandomForestClassifier()\n",
    "RandomForest.fit(x_train,y_train)\n",
    "RandomForest.score(x_test,y_test)"
   ]
  },
  {
   "cell_type": "code",
   "execution_count": 11,
   "metadata": {},
   "outputs": [
    {
     "data": {
      "text/plain": [
       "0.69205630970336851"
      ]
     },
     "execution_count": 11,
     "metadata": {},
     "output_type": "execute_result"
    }
   ],
   "source": [
    "#random forest with 20 estimators parameter, GINI criterion\n",
    "RandomForest=RandomForestClassifier(n_estimators=20, n_jobs=-1)\n",
    "RandomForest.fit(x_train,y_train)\n",
    "RandomForest.score(x_test,y_test)"
   ]
  },
  {
   "cell_type": "code",
   "execution_count": 12,
   "metadata": {},
   "outputs": [
    {
     "data": {
      "text/plain": [
       "0.65535444947209653"
      ]
     },
     "execution_count": 12,
     "metadata": {},
     "output_type": "execute_result"
    }
   ],
   "source": [
    "#random forest with 20 estimators parameter, entropy criterion\n",
    "RandomForest=RandomForestClassifier(criterion='entropy',n_estimators=20,n_jobs=-1)\n",
    "RandomForest.fit(x_train,y_train)\n",
    "RandomForest.score(x_test,y_test)"
   ]
  },
  {
   "cell_type": "code",
   "execution_count": 13,
   "metadata": {},
   "outputs": [
    {
     "data": {
      "text/plain": [
       "0.71141277023629967"
      ]
     },
     "execution_count": 13,
     "metadata": {},
     "output_type": "execute_result"
    }
   ],
   "source": [
    "#random forest with 30 estimators parameter, GINI criterion\n",
    "RandomForest=RandomForestClassifier(n_estimators=30, n_jobs=-1)\n",
    "RandomForest.fit(x_train,y_train)\n",
    "RandomForest.score(x_test,y_test)"
   ]
  },
  {
   "cell_type": "code",
   "execution_count": 14,
   "metadata": {},
   "outputs": [
    {
     "data": {
      "text/plain": [
       "0.66591251885369529"
      ]
     },
     "execution_count": 14,
     "metadata": {},
     "output_type": "execute_result"
    }
   ],
   "source": [
    "#random forest with 30 estimators parameter, entropy criterion\n",
    "RandomForest=RandomForestClassifier(criterion='entropy',n_estimators=30,n_jobs=-1)\n",
    "RandomForest.fit(x_train,y_train)\n",
    "RandomForest.score(x_test,y_test)"
   ]
  },
  {
   "cell_type": "code",
   "execution_count": 15,
   "metadata": {},
   "outputs": [
    {
     "data": {
      "text/plain": [
       "0.71292106586224235"
      ]
     },
     "execution_count": 15,
     "metadata": {},
     "output_type": "execute_result"
    }
   ],
   "source": [
    "#random forest with 50 estimators parameter, GINI criterion\n",
    "RandomForest=RandomForestClassifier(n_estimators=50,n_jobs=-1)\n",
    "RandomForest.fit(x_train,y_train)\n",
    "RandomForest.score(x_test,y_test)"
   ]
  },
  {
   "cell_type": "code",
   "execution_count": 16,
   "metadata": {},
   "outputs": [
    {
     "data": {
      "text/plain": [
       "0.67797888386123684"
      ]
     },
     "execution_count": 16,
     "metadata": {},
     "output_type": "execute_result"
    }
   ],
   "source": [
    "#random forest with 50 estimators parameter, entropy criterion\n",
    "RandomForest=RandomForestClassifier(criterion='entropy',n_estimators=50,n_jobs=-1)\n",
    "RandomForest.fit(x_train,y_train)\n",
    "RandomForest.score(x_test,y_test)"
   ]
  },
  {
   "cell_type": "code",
   "execution_count": 17,
   "metadata": {},
   "outputs": [
    {
     "data": {
      "text/plain": [
       "0.70965309200603321"
      ]
     },
     "execution_count": 17,
     "metadata": {},
     "output_type": "execute_result"
    }
   ],
   "source": [
    "#random forest with 100 estimators parameter, GINI criterion\n",
    "RandomForest=RandomForestClassifier(n_estimators=100,n_jobs=-1)\n",
    "RandomForest.fit(x_train,y_train)\n",
    "RandomForest.score(x_test,y_test)"
   ]
  },
  {
   "cell_type": "code",
   "execution_count": 18,
   "metadata": {},
   "outputs": [
    {
     "data": {
      "text/plain": [
       "0.67998994469582708"
      ]
     },
     "execution_count": 18,
     "metadata": {},
     "output_type": "execute_result"
    }
   ],
   "source": [
    "#random forest with 100 estimators parameter, entropy criterion\n",
    "RandomForest=RandomForestClassifier(criterion='entropy',n_estimators=100,n_jobs=-1)\n",
    "RandomForest.fit(x_train,y_train)\n",
    "RandomForest.score(x_test,y_test)"
   ]
  },
  {
   "cell_type": "code",
   "execution_count": 19,
   "metadata": {},
   "outputs": [
    {
     "data": {
      "text/plain": [
       "0.71644042232277527"
      ]
     },
     "execution_count": 19,
     "metadata": {},
     "output_type": "execute_result"
    }
   ],
   "source": [
    "#random forest with 1000 estimators parameter, GINI criterion\n",
    "RandomForest=RandomForestClassifier(n_estimators=1000, n_jobs=-1)\n",
    "RandomForest.fit(x_train,y_train)\n",
    "RandomForest.score(x_test,y_test)"
   ]
  },
  {
   "cell_type": "code",
   "execution_count": 22,
   "metadata": {
    "collapsed": true
   },
   "outputs": [],
   "source": [
    "test_true=np.ones(len(x_test))\n",
    "train_true=np.ones(len(x_train))"
   ]
  },
  {
   "cell_type": "code",
   "execution_count": 26,
   "metadata": {},
   "outputs": [
    {
     "name": "stdout",
     "output_type": "stream",
     "text": [
      "Estimator 10: 0.6744595274007039, 0.8055847470349797\n",
      "Estimator 25: 0.7033685268979387, 0.8258559622195986\n",
      "Estimator 50: 0.7116641528406235, 0.8315464825965634\n",
      "Estimator 100: 0.7151835093011564, 0.8339440128975524\n",
      "Estimator 200: 0.7154348919054802, 0.8341148886283705\n",
      "Estimator 500: 0.716691804927099, 0.8349685166202957\n",
      "Estimator 1000: 0.7164404223227753, 0.8347978910369068\n"
     ]
    }
   ],
   "source": [
    "x_plot=[]\n",
    "y_plot=[]\n",
    "f_plot=[]\n",
    "err_train_plot=[]\n",
    "err_test_plot=[]\n",
    "for i in [10,25,50,100,200,500,1000]:\n",
    "    RandomForest=RandomForestClassifier(n_estimators=i, n_jobs=-1,random_state=0)\n",
    "    RandomForest.fit(x_train,y_train)\n",
    "    res=RandomForest.score(x_test,y_test) #accuracy\n",
    "    \n",
    "    y_pred=RandomForest.predict(x_test)\n",
    "    y_train_pred=RandomForest.predict(x_train)\n",
    "    \n",
    "    test_pred=[]\n",
    "    train_pred=[]\n",
    "    for x in range(0,len(y_pred)):\n",
    "#         print(\"{0}: {1}\".format(y_pred[i],y_test[i]))\n",
    "        test_pred.append(1 if y_pred[x] == y_test[x] else 0)\n",
    "    \n",
    "    for x in range(0,len(y_train_pred)):\n",
    "        train_pred.append(1 if y_train_pred[x] == y_train[x] else 0)\n",
    "    \n",
    "    fscore=f1_score(test_true,test_pred)\n",
    "    \n",
    "    x_plot.append(i)\n",
    "    y_plot.append(res)\n",
    "    f_plot.append(fscore)\n",
    "    \n",
    "    err_test=mean_squared_error(test_true,test_pred)\n",
    "    err_test_plot.append(err_test)\n",
    "    \n",
    "    err_train=mean_squared_error(train_true,train_pred)\n",
    "    err_train_plot.append(err_train)\n",
    "    \n",
    "    print(\"Estimator {0}: {1}, {2}\".format(i,res,fscore))"
   ]
  },
  {
   "cell_type": "code",
   "execution_count": 28,
   "metadata": {},
   "outputs": [
    {
     "data": {
      "image/png": "[encoded data removed]",
      "text/plain": [
       "<matplotlib.figure.Figure at 0x150debb5e48>"
      ]
     },
     "metadata": {},
     "output_type": "display_data"
    }
   ],
   "source": [
    "import matplotlib.pyplot as plt\n",
    "import seaborn as sns\n",
    "# %matplotlib inline\n",
    "plt.figure(figsize=(20,15))\n",
    "\n",
    "plt.subplot(311)\n",
    "plt.ylabel(\"Accuracy / Score\")\n",
    "plt.plot(x_plot,y_plot)\n",
    "\n",
    "plt.subplot(312)\n",
    "plt.ylabel(\"F1-Score\")\n",
    "plt.plot(x_plot,f_plot)\n",
    "\n",
    "plt.subplot(313)\n",
    "plt.ylabel(\"Training Error and Test Error\")\n",
    "plt.xlabel(\"Number of Estimators\")\n",
    "plt.plot(x_plot,err_test_plot,'r')\n",
    "plt.plot(x_plot,err_train_plot,'b')\n",
    "\n",
    "plt.show()\n",
    "# sns.pointplot(x_plot,y_plot)"
   ]
  },
  {
   "cell_type": "code",
   "execution_count": 29,
   "metadata": {
    "collapsed": true
   },
   "outputs": [],
   "source": [
    "testFrame=pd.read_csv('food_test.csv')"
   ]
  },
  {
   "cell_type": "code",
   "execution_count": 30,
   "metadata": {},
   "outputs": [
    {
     "data": {
      "text/plain": [
       "array(['italian', 'japanese', 'mexican', ..., 'french', 'southern_us',\n",
       "       'mexican'], dtype=object)"
      ]
     },
     "execution_count": 30,
     "metadata": {},
     "output_type": "execute_result"
    }
   ],
   "source": [
    "tree.predict(testFrame)"
   ]
  },
  {
   "cell_type": "code",
   "execution_count": 31,
   "metadata": {},
   "outputs": [
    {
     "data": {
      "text/plain": [
       "array(['irish', 'southern_us', 'italian', ..., 'italian', 'southern_us',\n",
       "       'mexican'], \n",
       "      dtype='<U12')"
      ]
     },
     "execution_count": 31,
     "metadata": {},
     "output_type": "execute_result"
    }
   ],
   "source": [
    "naive_bayes.predict(testFrame)"
   ]
  }
 ],
 "metadata": {
  "kernelspec": {
   "display_name": "Python 3",
   "language": "python",
   "name": "python3"
  },
  "language_info": {
   "codemirror_mode": {
    "name": "ipython",
    "version": 3
   },
   "file_extension": ".py",
   "mimetype": "text/x-python",
   "name": "python",
   "nbconvert_exporter": "python",
   "pygments_lexer": "ipython3",
   "version": "3.4.4"
  }
 },
 "nbformat": 4,
 "nbformat_minor": 2
}
